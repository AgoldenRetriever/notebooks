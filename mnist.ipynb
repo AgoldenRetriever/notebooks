{
 "cells": [
  {
   "cell_type": "markdown",
   "metadata": {
    "nbpresent": {
     "id": "ff5e039c-2f16-48c9-986f-94bafa058752"
    },
    "slideshow": {
     "slide_type": "slide"
    }
   },
   "source": [
    "# TensorFlow 识别手写数字\n",
    "\n",
    "author：潘伟洲"
   ]
  },
  {
   "cell_type": "markdown",
   "metadata": {
    "nbpresent": {
     "id": "25fe901a-5d55-48f7-a30e-1132e8a84c45"
    },
    "slideshow": {
     "slide_type": "slide"
    }
   },
   "source": [
    "## 手写识别问题\n",
    "\n",
    "<center>\n",
    "![](./images/mnistdigits.gif)\n",
    "</center>"
   ]
  },
  {
   "cell_type": "markdown",
   "metadata": {
    "slideshow": {
     "slide_type": "slide"
    }
   },
   "source": [
    "## 机器学习与“炼丹”\n",
    "\n",
    "<div style=\"float:right\">\n",
    "![](images/muli.jpeg)\n",
    "<center>MXNet作者 李沐</center>\n",
    "</div>\n",
    "\n",
    "* 灵材——训练数据；\n",
    "* 丹方——训练模型；\n",
    "* 真火——硬件；\n",
    "* 丹炉——框架；\n",
    "* 炼制——训练过程。"
   ]
  },
  {
   "cell_type": "markdown",
   "metadata": {
    "nbpresent": {
     "id": "f9de4c0c-e907-4c7e-8d69-98e5c59b4466"
    },
    "slideshow": {
     "slide_type": "slide"
    }
   },
   "source": [
    "## 灵材——MNIST\n",
    "\n",
    "* Mixed National Institude of Standards and Technology database\n",
    "* http://yann.lecun.com/exdb/mnist/\n",
    "* Four files are available on this site:\n",
    "  - train-images-idx3-ubyte.gz:  training set images (9912422 bytes) \n",
    "  - train-labels-idx1-ubyte.gz:  training set labels (28881 bytes) \n",
    "  - t10k-images-idx3-ubyte.gz:   test set images (1648877 bytes) \n",
    "  - t10k-labels-idx1-ubyte.gz:   test set labels (4542 bytes)"
   ]
  },
  {
   "cell_type": "markdown",
   "metadata": {
    "nbpresent": {
     "id": "4857ac50-3d97-4d71-bcf7-644ead9ae147"
    },
    "slideshow": {
     "slide_type": "subslide"
    }
   },
   "source": [
    "## 认识 MNIST\n",
    "\n",
    "<center>![MNIST手写数字图片示例](images/MNIST.png)MNIST手写数字图片示例</center>"
   ]
  },
  {
   "cell_type": "code",
   "execution_count": null,
   "metadata": {
    "collapsed": false,
    "nbpresent": {
     "id": "70ea56fb-f137-4c65-a9f9-9cfeb72c51e8"
    },
    "slideshow": {
     "slide_type": "fragment"
    }
   },
   "outputs": [],
   "source": [
    "from tensorflow.examples.tutorials.mnist import input_data\n",
    "mnist = input_data.read_data_sets(\"MNIST_data/\", one_hot=True)\n",
    "\n",
    "print(mnist.train.images.shape, mnist.train.labels.shape)\n",
    "print(mnist.test.images.shape, mnist.test.labels.shape)\n",
    "print(mnist.validation.images.shape, mnist.validation.labels.shape)"
   ]
  },
  {
   "cell_type": "markdown",
   "metadata": {
    "slideshow": {
     "slide_type": "fragment"
    }
   },
   "source": [
    "<center>![MNIST训练数据的特征](images/mnist-train-xs.png)MNIST训练数据的特征</center>\n",
    "\n",
    "<br/>\n",
    "\n",
    "<center>![MNIST训练数据的Label](images/mnist-train-ys.png)MNIST训练数据的Label</center>"
   ]
  },
  {
   "cell_type": "code",
   "execution_count": null,
   "metadata": {
    "collapsed": false,
    "nbpresent": {
     "id": "05bc75e3-7eca-4021-b582-332ac449ad2f"
    },
    "slideshow": {
     "slide_type": "fragment"
    }
   },
   "outputs": [],
   "source": [
    "print(mnist.train.images[0])"
   ]
  },
  {
   "cell_type": "markdown",
   "metadata": {
    "slideshow": {
     "slide_type": "fragment"
    }
   },
   "source": [
    "<center>![手写数字灰度信息示例](images/MNIST-Matrix.png)手写数字灰度信息示例</center>"
   ]
  },
  {
   "cell_type": "markdown",
   "metadata": {
    "slideshow": {
     "slide_type": "slide"
    }
   },
   "source": [
    "## 丹方——选择什么样的机器学习模型？\n",
    "\n",
    "* 分类？\n",
    "* 聚类？\n",
    "\n",
    "<center><img src=\"images/models.png\"/></center>"
   ]
  },
  {
   "cell_type": "markdown",
   "metadata": {
    "slideshow": {
     "slide_type": "subslide"
    }
   },
   "source": [
    "## 多分类模型——Softmax Regression\n",
    "\n",
    "* one vs all\n",
    "* 将可以判定为某类的特征相加，然后将这些特征转化为判定是这一类的概率\n",
    "* 特征：所有像素的灰度值与分类的对应关系的加权。\n",
    "\n",
    "<center>![](images/softmax-weights.png)</center>"
   ]
  },
  {
   "cell_type": "markdown",
   "metadata": {
    "slideshow": {
     "slide_type": "fragment"
    }
   },
   "source": [
    "### 特征的数学化表达\n",
    "\n",
    "$$evidence_i=\\sum_{j}W_{i,j}x_{j}+b_{i}$$\n",
    "\n",
    "* $i$ ：第 $i$ 类；\n",
    "* $j$ ：一张图片的第 j 个像素。\n",
    "* $b_i$：bias（倾向）；\n",
    "* $W_i$：权重\n",
    "\n",
    "计算 Softmax：\n",
    "\n",
    "$$softmax(x) = normalize(exp(x))$$"
   ]
  },
  {
   "cell_type": "markdown",
   "metadata": {
    "slideshow": {
     "slide_type": "fragment"
    }
   },
   "source": [
    "### Softmax Regression的流程示意图\n",
    "\n",
    "<center>![Softmax Regression的流程](images/softmax-regression-scalargraph.png)Softmax Regression的流程</center>"
   ]
  },
  {
   "cell_type": "markdown",
   "metadata": {
    "slideshow": {
     "slide_type": "fragment"
    }
   },
   "source": [
    "### Softmax Regression 元素乘法示例\n",
    "\n",
    "<center>![](images/softmax-regression-vectorequation.png)Softmax Regression元素乘法示例</center>\n",
    "\n",
    "写成公式表达：\n",
    "\n",
    "$$y=softmax(Wx+b)$$"
   ]
  },
  {
   "cell_type": "markdown",
   "metadata": {
    "slideshow": {
     "slide_type": "slide"
    }
   },
   "source": [
    "## 丹炉——Tensorflow\n",
    "\n",
    "<center>![](images/tensorflow.png)</center>"
   ]
  },
  {
   "cell_type": "markdown",
   "metadata": {
    "slideshow": {
     "slide_type": "subslide"
    }
   },
   "source": [
    "## 回顾TensorFlow的线性回归例子"
   ]
  },
  {
   "cell_type": "code",
   "execution_count": null,
   "metadata": {
    "collapsed": false
   },
   "outputs": [],
   "source": [
    "# import numpy and tensorflow\n",
    "import numpy as np\n",
    "import tensorflow as tf\n",
    "\n",
    "# define session\n",
    "sess = tf.Session()\n",
    "\n",
    "# define tensors and flow\n",
    "W = tf.Variable([.3], tf.float32)\n",
    "b = tf.Variable([-.3], tf.float32)\n",
    "\n",
    "init = tf.global_variables_initializer()\n",
    "sess.run(init)\n",
    "\n",
    "x = tf.placeholder(tf.float32, name='x')\n",
    "linear_model = W * x + b\n",
    "y = tf.placeholder(tf.float32, name='y')\n",
    "\n",
    "# define loss\n",
    "loss = tf.reduce_sum(tf.square(linear_model - y))\n",
    "\n",
    "# define training task\n",
    "train = tf.train.GradientDescentOptimizer(0.01).minimize(loss)\n",
    "\n",
    "# training\n",
    "for i in range(1000):\n",
    "    sess.run(train, {x: [1, 2, 3, 4], y: [0, -1, -2, -3]})\n",
    "\n",
    "# print result\n",
    "print(sess.run(loss, {x: [1, 2, 3, 4], y: [0, -1, -2, -3]}))\n",
    "\n",
    "sess.close()"
   ]
  },
  {
   "cell_type": "markdown",
   "metadata": {
    "slideshow": {
     "slide_type": "slide"
    }
   },
   "source": [
    "## 开始炼丹 —— 使用 TensorFlow 识别手写"
   ]
  },
  {
   "cell_type": "code",
   "execution_count": null,
   "metadata": {
    "collapsed": true,
    "nbpresent": {
     "id": "294bddf0-d984-4ae4-9a4c-7de9ca31dde7"
    },
    "slideshow": {
     "slide_type": "fragment"
    }
   },
   "outputs": [],
   "source": [
    "# import numpy and tensorflow\n",
    "import numpy as np\n",
    "import tensorflow as tf\n",
    "\n",
    "from tensorflow.examples.tutorials.mnist import input_data\n",
    "mnist = input_data.read_data_sets(\"MNIST_data/\", one_hot=True)\n",
    "\n",
    "# define session\n",
    "sess = tf.Session()\n",
    "\n",
    "# define tensors and flow\n",
    "W = tf.Variable(tf.zeros([784, 10]))\n",
    "b = tf.Variable(tf.zeros([10]))\n",
    "\n",
    "init = tf.global_variables_initializer()\n",
    "sess.run(init)\n",
    "\n",
    "x = tf.placeholder(tf.float32, [None, 784])\n",
    "y = tf.placeholder(tf.float32, [None, 10])\n",
    "\n",
    "model = tf.nn.softmax(tf.matmul(x, W) + b)\n",
    "\n",
    "# define loss\n",
    "\n",
    "# define training task\n",
    "\n",
    "# training\n",
    "\n",
    "# print result\n",
    "\n",
    "sess.close()"
   ]
  },
  {
   "cell_type": "markdown",
   "metadata": {
    "slideshow": {
     "slide_type": "subslide"
    }
   },
   "source": [
    "## 损失函数——cross-entropy\n",
    "\n",
    "* 对于多分类问题，通常使用 cross-entropy 作为 loss-function\n",
    "* 最早出自信息论（Information Theory）中的信息熵\n",
    "* 定义：$$H_{y'}(y)=-\\sum_{i}y'_{i}log(y_i)$$\n",
    "  * $y$：概率分布，对应代码中的 `model`\n",
    "  * $y'$：真实的概率分布，对应代码中的 `y`"
   ]
  },
  {
   "cell_type": "code",
   "execution_count": null,
   "metadata": {
    "collapsed": true,
    "nbpresent": {
     "id": "191b5927-0ee9-436a-b6c9-26341880d34a"
    },
    "slideshow": {
     "slide_type": "fragment"
    }
   },
   "outputs": [],
   "source": [
    "cross_entropy = tf.reduce_mean(-tf.reduce_sum(y * tf.log(model), reduction_indices=[1]))"
   ]
  },
  {
   "cell_type": "code",
   "execution_count": 51,
   "metadata": {
    "collapsed": false,
    "nbpresent": {
     "id": "294bddf0-d984-4ae4-9a4c-7de9ca31dde7"
    },
    "slideshow": {
     "slide_type": "subslide"
    }
   },
   "outputs": [
    {
     "name": "stdout",
     "output_type": "stream",
     "text": [
      "Extracting MNIST_data/train-images-idx3-ubyte.gz\n",
      "Extracting MNIST_data/train-labels-idx1-ubyte.gz\n",
      "Extracting MNIST_data/t10k-images-idx3-ubyte.gz\n",
      "Extracting MNIST_data/t10k-labels-idx1-ubyte.gz\n"
     ]
    }
   ],
   "source": [
    "# import numpy and tensorflow\n",
    "import numpy as np\n",
    "import tensorflow as tf\n",
    "\n",
    "from tensorflow.examples.tutorials.mnist import input_data\n",
    "mnist = input_data.read_data_sets(\"MNIST_data/\", one_hot=True)\n",
    "\n",
    "# define session\n",
    "sess = tf.Session()\n",
    "\n",
    "# define tensors and flow\n",
    "W = tf.Variable(tf.zeros([784, 10]))\n",
    "b = tf.Variable(tf.zeros([10]))\n",
    "\n",
    "init = tf.global_variables_initializer()\n",
    "sess.run(init)\n",
    "\n",
    "x = tf.placeholder(tf.float32, [None, 784])\n",
    "y = tf.placeholder(tf.float32, [None, 10])\n",
    "\n",
    "model = tf.nn.softmax(tf.matmul(x, W) + b)\n",
    "\n",
    "# define loss\n",
    "cross_entropy = tf.reduce_mean(-tf.reduce_sum(y * tf.log(model), reduction_indices=[1]))\n",
    "\n",
    "# define training task\n",
    "\n",
    "# training\n",
    "\n",
    "# print result\n",
    "\n",
    "sess.close()"
   ]
  },
  {
   "cell_type": "markdown",
   "metadata": {
    "slideshow": {
     "slide_type": "subslide"
    }
   },
   "source": [
    "### 训练 —— 分批进行\n",
    "\n",
    "* 每次训练都使用全部样本，计算量太大，有时也不容易跳出局部最优\n",
    "* 分批进行训练，收敛速度更快"
   ]
  },
  {
   "cell_type": "code",
   "execution_count": null,
   "metadata": {
    "collapsed": false,
    "slideshow": {
     "slide_type": "fragment"
    }
   },
   "outputs": [],
   "source": [
    "for i in range(1000):\n",
    "    batch_xs, batch_ys = mnist.train.next_batch(100)\n",
    "    sess.run(train, {x: batch_xs, y: batch_ys})"
   ]
  },
  {
   "cell_type": "code",
   "execution_count": 54,
   "metadata": {
    "collapsed": false,
    "nbpresent": {
     "id": "1ac25559-7884-4276-befa-dace554d1f5f"
    },
    "slideshow": {
     "slide_type": "subslide"
    }
   },
   "outputs": [
    {
     "name": "stdout",
     "output_type": "stream",
     "text": [
      "Extracting MNIST_data/train-images-idx3-ubyte.gz\n",
      "Extracting MNIST_data/train-labels-idx1-ubyte.gz\n",
      "Extracting MNIST_data/t10k-images-idx3-ubyte.gz\n",
      "Extracting MNIST_data/t10k-labels-idx1-ubyte.gz\n"
     ]
    }
   ],
   "source": [
    "# import numpy and tensorflow\n",
    "import numpy as np\n",
    "import tensorflow as tf\n",
    "\n",
    "from tensorflow.examples.tutorials.mnist import input_data\n",
    "mnist = input_data.read_data_sets(\"MNIST_data/\", one_hot=True)\n",
    "\n",
    "# define session\n",
    "sess = tf.Session()\n",
    "\n",
    "# define tensors and flow\n",
    "W = tf.Variable(tf.zeros([784, 10]), name='W')\n",
    "b = tf.Variable(tf.zeros([10]), name='b')\n",
    "\n",
    "init = tf.global_variables_initializer()\n",
    "sess.run(init)\n",
    "\n",
    "x = tf.placeholder(tf.float32, [None, 784], name='x')\n",
    "y = tf.placeholder(tf.float32, [None, 10], name='y')\n",
    "\n",
    "model = tf.nn.softmax(tf.matmul(x, W) + b)\n",
    "\n",
    "# define loss\n",
    "cross_entropy = tf.reduce_mean(-tf.reduce_sum(y * tf.log(model), reduction_indices=[1]))\n",
    "\n",
    "# define training task\n",
    "train = tf.train.GradientDescentOptimizer(0.5).minimize(cross_entropy)\n",
    "\n",
    "# training\n",
    "for i in range(1000):\n",
    "    batch_xs, batch_ys = mnist.train.next_batch(100)\n",
    "    sess.run(train, {x: batch_xs, y: batch_ys})\n",
    "\n",
    "# print result\n",
    "\n",
    "\n",
    "sess.close()"
   ]
  },
  {
   "cell_type": "markdown",
   "metadata": {
    "slideshow": {
     "slide_type": "subslide"
    }
   },
   "source": [
    "### 结果评估"
   ]
  },
  {
   "cell_type": "code",
   "execution_count": null,
   "metadata": {
    "collapsed": true,
    "nbpresent": {
     "id": "baaa0eb1-7eb7-428b-ad20-e0de4d083771"
    },
    "slideshow": {
     "slide_type": "fragment"
    }
   },
   "outputs": [],
   "source": [
    "correct_prediction = tf.equal(tf.argmax(model, 1), tf.argmax(y, 1))\n",
    "accuracy = tf.reduce_mean(tf.cast(correct_prediction, tf.float32))"
   ]
  },
  {
   "cell_type": "markdown",
   "metadata": {
    "slideshow": {
     "slide_type": "fragment"
    }
   },
   "source": [
    "* `tf.argmax`：从一个 tensor 中寻找最大值的序号\n",
    "* `tf.equal`: 判断预测的类别是否正确"
   ]
  },
  {
   "cell_type": "code",
   "execution_count": 60,
   "metadata": {
    "collapsed": false,
    "slideshow": {
     "slide_type": "slide"
    }
   },
   "outputs": [
    {
     "name": "stdout",
     "output_type": "stream",
     "text": [
      "Extracting MNIST_data/train-images-idx3-ubyte.gz\n",
      "Extracting MNIST_data/train-labels-idx1-ubyte.gz\n",
      "Extracting MNIST_data/t10k-images-idx3-ubyte.gz\n",
      "Extracting MNIST_data/t10k-labels-idx1-ubyte.gz\n",
      "0.9174\n"
     ]
    }
   ],
   "source": [
    "# import numpy and tensorflow\n",
    "import numpy as np\n",
    "import tensorflow as tf\n",
    "\n",
    "from tensorflow.examples.tutorials.mnist import input_data\n",
    "mnist = input_data.read_data_sets(\"MNIST_data/\", one_hot=True)\n",
    "\n",
    "# define session\n",
    "sess = tf.Session()\n",
    "\n",
    "# define tensors and flow\n",
    "W = tf.Variable(tf.zeros([784, 10]), name='W')\n",
    "b = tf.Variable(tf.zeros([10]), name='b')\n",
    "\n",
    "init = tf.global_variables_initializer()\n",
    "sess.run(init)\n",
    "\n",
    "x = tf.placeholder(tf.float32, [None, 784], name='x')\n",
    "y = tf.placeholder(tf.float32, [None, 10], name='y')\n",
    "\n",
    "model = tf.nn.softmax(tf.matmul(x, W) + b)\n",
    "\n",
    "# define loss\n",
    "cross_entropy = tf.reduce_mean(-tf.reduce_sum(y * tf.log(model), reduction_indices=[1]))\n",
    "\n",
    "# define training task\n",
    "train = tf.train.GradientDescentOptimizer(0.5).minimize(cross_entropy)\n",
    "\n",
    "# training\n",
    "for i in range(1000):\n",
    "    batch_xs, batch_ys = mnist.train.next_batch(100)\n",
    "    sess.run(train, {x: batch_xs, y: batch_ys})\n",
    "\n",
    "# print result\n",
    "correct_prediction = tf.equal(tf.argmax(model, 1), tf.argmax(y, 1))\n",
    "accuracy = tf.reduce_mean(tf.cast(correct_prediction, tf.float32))\n",
    "print(sess.run(accuracy, ({x: mnist.test.images, y: mnist.test.labels})))\n",
    "\n",
    "sess.close()"
   ]
  }
 ],
 "metadata": {
  "celltoolbar": "Slideshow",
  "kernelspec": {
   "display_name": "Python 2",
   "language": "python",
   "name": "python2"
  },
  "language_info": {
   "codemirror_mode": {
    "name": "ipython",
    "version": 2
   },
   "file_extension": ".py",
   "mimetype": "text/x-python",
   "name": "python",
   "nbconvert_exporter": "python",
   "pygments_lexer": "ipython2",
   "version": "2.7.13"
  },
  "nbpresent": {
   "slides": {
    "138ceb39-3d1a-45c2-9e3a-8744d23309c2": {
     "id": "138ceb39-3d1a-45c2-9e3a-8744d23309c2",
     "prev": "601353ef-22ef-4521-b12d-d108b866b1c2",
     "regions": {
      "d569cb42-1eff-483a-8194-e8ff5d2e693a": {
       "attrs": {
        "height": 0.8,
        "width": 0.8,
        "x": 0.1,
        "y": 0.1
       },
       "content": {
        "cell": "1ac25559-7884-4276-befa-dace554d1f5f",
        "part": "whole"
       },
       "id": "d569cb42-1eff-483a-8194-e8ff5d2e693a"
      }
     }
    },
    "3cf91dd4-fe94-4da8-86f7-f92c37362a2f": {
     "id": "3cf91dd4-fe94-4da8-86f7-f92c37362a2f",
     "prev": "c27ae511-9c52-4ae2-93e7-51c15462dfc9",
     "regions": {
      "7ac0545e-ed8e-41c0-83de-ce80f710cd5b": {
       "attrs": {
        "height": 0.8,
        "width": 0.8,
        "x": 0.1,
        "y": 0.1
       },
       "content": {
        "cell": "70ea56fb-f137-4c65-a9f9-9cfeb72c51e8",
        "part": "whole"
       },
       "id": "7ac0545e-ed8e-41c0-83de-ce80f710cd5b"
      }
     }
    },
    "3f34c19e-225e-4ebe-aaed-aaa524385748": {
     "id": "3f34c19e-225e-4ebe-aaed-aaa524385748",
     "prev": "a13f91ab-c4d2-415d-b47e-f6a2f71d8c61",
     "regions": {
      "dc3f291d-9142-4a4b-9002-3578d677a92f": {
       "attrs": {
        "height": 0.8,
        "width": 0.8,
        "x": 0.1,
        "y": 0.1
       },
       "content": {
        "cell": "51567ff1-5ef2-4e4f-ac5f-897a248899d0",
        "part": "whole"
       },
       "id": "dc3f291d-9142-4a4b-9002-3578d677a92f"
      }
     }
    },
    "43982ad0-382f-4110-8a2c-49a2a4c1c2cb": {
     "id": "43982ad0-382f-4110-8a2c-49a2a4c1c2cb",
     "prev": "138ceb39-3d1a-45c2-9e3a-8744d23309c2",
     "regions": {
      "2eb76ce0-de4b-4890-8731-ffe84319b851": {
       "attrs": {
        "height": 0.8,
        "width": 0.8,
        "x": 0.1,
        "y": 0.1
       },
       "content": {
        "cell": "baaa0eb1-7eb7-428b-ad20-e0de4d083771",
        "part": "whole"
       },
       "id": "2eb76ce0-de4b-4890-8731-ffe84319b851"
      }
     }
    },
    "49fbde22-61db-4a27-ba97-39d6ce154280": {
     "id": "49fbde22-61db-4a27-ba97-39d6ce154280",
     "prev": null,
     "regions": {
      "df59d7d1-1657-4880-86f2-8a7e21cfa8ff": {
       "attrs": {
        "height": 0.8,
        "width": 0.8,
        "x": 0.1,
        "y": 0.1
       },
       "content": {
        "cell": "ff5e039c-2f16-48c9-986f-94bafa058752",
        "part": "whole"
       },
       "id": "df59d7d1-1657-4880-86f2-8a7e21cfa8ff"
      }
     }
    },
    "53c1edfd-bcaa-491c-b74c-ef32fab93c3b": {
     "id": "53c1edfd-bcaa-491c-b74c-ef32fab93c3b",
     "prev": "e16b7585-5ab9-42cf-a281-d7086fe554cc",
     "regions": {
      "cb2b6a05-b158-4eb6-a183-a25ac9c96b58": {
       "attrs": {
        "height": 0.8,
        "width": 0.8,
        "x": 0.1,
        "y": 0.1
       },
       "content": {
        "cell": "0256bd21-9cf6-440d-8eb0-77df0f8bcb5a",
        "part": "whole"
       },
       "id": "cb2b6a05-b158-4eb6-a183-a25ac9c96b58"
      }
     }
    },
    "601353ef-22ef-4521-b12d-d108b866b1c2": {
     "id": "601353ef-22ef-4521-b12d-d108b866b1c2",
     "prev": "625a7db0-75f0-4de3-9bf3-fcfebb906dbb",
     "regions": {
      "46de958f-b799-4b7d-90da-5711e4b5d0d4": {
       "attrs": {
        "height": 0.8,
        "width": 0.8,
        "x": 0.1,
        "y": 0.1
       },
       "content": {
        "cell": "191b5927-0ee9-436a-b6c9-26341880d34a",
        "part": "whole"
       },
       "id": "46de958f-b799-4b7d-90da-5711e4b5d0d4"
      }
     }
    },
    "625a7db0-75f0-4de3-9bf3-fcfebb906dbb": {
     "id": "625a7db0-75f0-4de3-9bf3-fcfebb906dbb",
     "prev": "53c1edfd-bcaa-491c-b74c-ef32fab93c3b",
     "regions": {
      "ca817d2f-5752-4c2d-b7b0-fa1303a4e9a0": {
       "attrs": {
        "height": 0.8,
        "width": 0.8,
        "x": 0.1,
        "y": 0.1
       },
       "content": {
        "cell": "a501b2f6-2788-4da2-9167-66394e4f3e13",
        "part": "whole"
       },
       "id": "ca817d2f-5752-4c2d-b7b0-fa1303a4e9a0"
      }
     }
    },
    "92e94a40-272f-4e8b-8c18-46140a1c135a": {
     "id": "92e94a40-272f-4e8b-8c18-46140a1c135a",
     "prev": "3cf91dd4-fe94-4da8-86f7-f92c37362a2f",
     "regions": {
      "f08262ea-7c37-44a3-ace2-be8e9dc79c36": {
       "attrs": {
        "height": 0.8,
        "width": 0.8,
        "x": 0.1,
        "y": 0.1
       },
       "content": {
        "cell": "05bc75e3-7eca-4021-b582-332ac449ad2f",
        "part": "whole"
       },
       "id": "f08262ea-7c37-44a3-ace2-be8e9dc79c36"
      }
     }
    },
    "a13f91ab-c4d2-415d-b47e-f6a2f71d8c61": {
     "id": "a13f91ab-c4d2-415d-b47e-f6a2f71d8c61",
     "prev": "49fbde22-61db-4a27-ba97-39d6ce154280",
     "regions": {
      "6553cd14-b4c4-4857-8ab4-25ce757bd800": {
       "attrs": {
        "height": 0.8,
        "width": 0.8,
        "x": 0.1,
        "y": 0.1
       },
       "content": {
        "cell": "f7f3fdf6-3472-453f-98a0-bfc4b13a348d",
        "part": "whole"
       },
       "id": "6553cd14-b4c4-4857-8ab4-25ce757bd800"
      }
     }
    },
    "c27ae511-9c52-4ae2-93e7-51c15462dfc9": {
     "id": "c27ae511-9c52-4ae2-93e7-51c15462dfc9",
     "prev": "f8ba4997-0aa3-4b52-8a2c-e7f7e48d20ce",
     "regions": {
      "50e24ac5-6f51-4fe2-bcd2-ec24f61d197d": {
       "attrs": {
        "height": 0.8,
        "width": 0.8,
        "x": 0.1,
        "y": 0.1
       },
       "content": {
        "cell": "4857ac50-3d97-4d71-bcf7-644ead9ae147",
        "part": "whole"
       },
       "id": "50e24ac5-6f51-4fe2-bcd2-ec24f61d197d"
      }
     }
    },
    "dd1fcb3a-aa8b-4910-927d-e666c6b8118e": {
     "id": "dd1fcb3a-aa8b-4910-927d-e666c6b8118e",
     "prev": "43982ad0-382f-4110-8a2c-49a2a4c1c2cb",
     "regions": {
      "3c2c7aba-9071-4a63-9b06-24f1dc116280": {
       "attrs": {
        "height": 0.8,
        "width": 0.8,
        "x": 0.1,
        "y": 0.1
       },
       "content": {
        "cell": "60e61cb3-6a13-42de-8c20-b55f95dcf386",
        "part": "whole"
       },
       "id": "3c2c7aba-9071-4a63-9b06-24f1dc116280"
      }
     }
    },
    "e16b7585-5ab9-42cf-a281-d7086fe554cc": {
     "id": "e16b7585-5ab9-42cf-a281-d7086fe554cc",
     "prev": "92e94a40-272f-4e8b-8c18-46140a1c135a",
     "regions": {
      "54cdbd37-257f-48e2-8aee-0832e83f5e78": {
       "attrs": {
        "height": 0.8,
        "width": 0.8,
        "x": 0.1,
        "y": 0.1
       },
       "content": {
        "cell": "294bddf0-d984-4ae4-9a4c-7de9ca31dde7",
        "part": "whole"
       },
       "id": "54cdbd37-257f-48e2-8aee-0832e83f5e78"
      }
     }
    },
    "f49ef60d-ead7-457c-854e-1242bf414d5c": {
     "id": "f49ef60d-ead7-457c-854e-1242bf414d5c",
     "prev": "3f34c19e-225e-4ebe-aaed-aaa524385748",
     "regions": {
      "2f8d31e8-51bd-4fa2-9ad0-4e4fa1d240ed": {
       "attrs": {
        "height": 0.8,
        "width": 0.8,
        "x": 0.1,
        "y": 0.1
       },
       "content": {
        "cell": "f9de4c0c-e907-4c7e-8d69-98e5c59b4466",
        "part": "whole"
       },
       "id": "2f8d31e8-51bd-4fa2-9ad0-4e4fa1d240ed"
      }
     }
    },
    "f8ba4997-0aa3-4b52-8a2c-e7f7e48d20ce": {
     "id": "f8ba4997-0aa3-4b52-8a2c-e7f7e48d20ce",
     "prev": "f49ef60d-ead7-457c-854e-1242bf414d5c",
     "regions": {
      "80747896-c54b-4d50-bcc8-a5b378930a17": {
       "attrs": {
        "height": 0.8,
        "width": 0.8,
        "x": 0.1,
        "y": 0.1
       },
       "content": {
        "cell": "25fe901a-5d55-48f7-a30e-1132e8a84c45",
        "part": "whole"
       },
       "id": "80747896-c54b-4d50-bcc8-a5b378930a17"
      }
     }
    }
   },
   "themes": {
    "default": "a8a8f424-d03d-40a5-86d9-7422f89d6f34",
    "theme": {
     "42440a7c-5568-4e4e-89f8-2922a606c6df": {
      "backgrounds": {
       "backgroundColor": {
        "background-color": "backgroundColor",
        "id": "backgroundColor"
       }
      },
      "id": "42440a7c-5568-4e4e-89f8-2922a606c6df",
      "palette": {
       "backgroundColor": {
        "id": "backgroundColor",
        "rgb": [
         256,
         256,
         256
        ]
       },
       "headingColor": {
        "id": "headingColor",
        "rgb": [
         0,
         0,
         0
        ]
       },
       "linkColor": {
        "id": "linkColor",
        "rgb": [
         0,
         0,
         139
        ]
       },
       "mainColor": {
        "id": "mainColor",
        "rgb": [
         0,
         0,
         0
        ]
       }
      },
      "rules": {
       "a": {
        "color": "linkColor"
       },
       "h1": {
        "color": "headingColor",
        "font-family": "News Cycle",
        "font-size": 7
       },
       "h2": {
        "color": "headingColor",
        "font-family": "News Cycle",
        "font-size": 5
       },
       "h3": {
        "color": "headingColor",
        "font-family": "News Cycle",
        "font-size": 3.75
       },
       "h4": {
        "color": "headingColor",
        "font-family": "News Cycle",
        "font-size": 3
       },
       "h5": {
        "color": "headingColor",
        "font-family": "News Cycle"
       },
       "h6": {
        "color": "headingColor",
        "font-family": "News Cycle"
       },
       "h7": {
        "color": "headingColor",
        "font-family": "News Cycle"
       },
       "li": {
        "color": "mainColor",
        "font-family": "Lato",
        "font-size": 5
       },
       "p": {
        "color": "mainColor",
        "font-family": "Lato",
        "font-size": 5
       }
      },
      "text-base": {
       "color": "mainColor",
       "font-family": "Lato",
       "font-size": 5
      }
     },
     "99c128c2-f98c-4b15-96d0-f86144474bd3": {
      "backgrounds": {
       "backgroundColor": {
        "background-color": "backgroundColor",
        "id": "backgroundColor"
       }
      },
      "id": "99c128c2-f98c-4b15-96d0-f86144474bd3",
      "palette": {
       "backgroundColor": {
        "id": "backgroundColor",
        "rgb": [
         256,
         256,
         256
        ]
       },
       "headingColor": {
        "id": "headingColor",
        "rgb": [
         34,
         34,
         34
        ]
       },
       "linkColor": {
        "id": "linkColor",
        "rgb": [
         42,
         118,
         221
        ]
       },
       "mainColor": {
        "id": "mainColor",
        "rgb": [
         34,
         34,
         34
        ]
       }
      },
      "rules": {
       "a": {
        "color": "linkColor"
       },
       "h1": {
        "color": "headingColor",
        "font-family": "Source Sans Pro",
        "font-size": 5.25
       },
       "h2": {
        "color": "headingColor",
        "font-family": "Source Sans Pro",
        "font-size": 4
       },
       "h3": {
        "color": "headingColor",
        "font-family": "Source Sans Pro",
        "font-size": 3.5
       },
       "h4": {
        "color": "headingColor",
        "font-family": "Source Sans Pro",
        "font-size": 3
       },
       "h5": {
        "color": "headingColor",
        "font-family": "Source Sans Pro"
       },
       "h6": {
        "color": "headingColor",
        "font-family": "Source Sans Pro"
       },
       "h7": {
        "color": "headingColor",
        "font-family": "Source Sans Pro"
       },
       "li": {
        "color": "mainColor",
        "font-family": "Source Sans Pro",
        "font-size": 6
       },
       "p": {
        "color": "mainColor",
        "font-family": "Source Sans Pro",
        "font-size": 6
       }
      },
      "text-base": {
       "color": "mainColor",
       "font-family": "Source Sans Pro",
       "font-size": 6
      }
     },
     "9bbd039e-093f-427f-82da-3e8205769824": {
      "backgrounds": {
       "backgroundColor": {
        "background-color": "backgroundColor",
        "id": "backgroundColor"
       }
      },
      "id": "9bbd039e-093f-427f-82da-3e8205769824",
      "palette": {
       "backgroundColor": {
        "id": "backgroundColor",
        "rgb": [
         17,
         17,
         17
        ]
       },
       "headingColor": {
        "id": "headingColor",
        "rgb": [
         238,
         238,
         238
        ]
       },
       "linkColor": {
        "id": "linkColor",
        "rgb": [
         231,
         173,
         82
        ]
       },
       "mainColor": {
        "id": "mainColor",
        "rgb": [
         238,
         238,
         238
        ]
       }
      },
      "rules": {
       "a": {
        "color": "linkColor"
       },
       "h1": {
        "color": "headingColor",
        "font-family": "Montserrat",
        "font-size": 7
       },
       "h2": {
        "color": "headingColor",
        "font-family": "Montserrat",
        "font-size": 5
       },
       "h3": {
        "color": "headingColor",
        "font-family": "Montserrat",
        "font-size": 3.75
       },
       "h4": {
        "color": "headingColor",
        "font-family": "Montserrat",
        "font-size": 3
       },
       "h5": {
        "color": "headingColor",
        "font-family": "Montserrat"
       },
       "h6": {
        "color": "headingColor",
        "font-family": "Montserrat"
       },
       "h7": {
        "color": "headingColor",
        "font-family": "Montserrat"
       },
       "li": {
        "color": "mainColor",
        "font-family": "Open Sans",
        "font-size": 4
       },
       "p": {
        "color": "mainColor",
        "font-family": "Open Sans",
        "font-size": 4
       }
      },
      "text-base": {
       "color": "mainColor",
       "font-family": "Open Sans",
       "font-size": 4
      }
     },
     "a264de04-11b9-4b74-8d41-ee8cbef90153": {
      "id": "a264de04-11b9-4b74-8d41-ee8cbef90153",
      "palette": {
       "19cc588f-0593-49c9-9f4b-e4d7cc113b1c": {
        "id": "19cc588f-0593-49c9-9f4b-e4d7cc113b1c",
        "rgb": [
         252,
         252,
         252
        ]
       },
       "31af15d2-7e15-44c5-ab5e-e04b16a89eff": {
        "id": "31af15d2-7e15-44c5-ab5e-e04b16a89eff",
        "rgb": [
         68,
         68,
         68
        ]
       },
       "50f92c45-a630-455b-aec3-788680ec7410": {
        "id": "50f92c45-a630-455b-aec3-788680ec7410",
        "rgb": [
         155,
         177,
         192
        ]
       },
       "c5cc3653-2ee1-402a-aba2-7caae1da4f6c": {
        "id": "c5cc3653-2ee1-402a-aba2-7caae1da4f6c",
        "rgb": [
         43,
         126,
         184
        ]
       },
       "efa7f048-9acb-414c-8b04-a26811511a21": {
        "id": "efa7f048-9acb-414c-8b04-a26811511a21",
        "rgb": [
         25.118061674008803,
         73.60176211453744,
         107.4819383259912
        ]
       }
      },
      "rules": {
       "blockquote": {
        "color": "50f92c45-a630-455b-aec3-788680ec7410"
       },
       "code": {
        "font-family": "Anonymous Pro"
       },
       "h1": {
        "color": "c5cc3653-2ee1-402a-aba2-7caae1da4f6c",
        "font-family": "Lato",
        "font-size": 8
       },
       "h2": {
        "color": "c5cc3653-2ee1-402a-aba2-7caae1da4f6c",
        "font-family": "Lato",
        "font-size": 6
       },
       "h3": {
        "color": "50f92c45-a630-455b-aec3-788680ec7410",
        "font-family": "Lato",
        "font-size": 5.5
       },
       "h4": {
        "color": "c5cc3653-2ee1-402a-aba2-7caae1da4f6c",
        "font-family": "Lato",
        "font-size": 5
       },
       "h5": {
        "font-family": "Lato"
       },
       "h6": {
        "font-family": "Lato"
       },
       "h7": {
        "font-family": "Lato"
       },
       "pre": {
        "font-family": "Anonymous Pro",
        "font-size": 4
       }
      },
      "text-base": {
       "font-family": "Merriweather",
       "font-size": 4
      }
     },
     "a8a8f424-d03d-40a5-86d9-7422f89d6f34": {
      "backgrounds": {
       "backgroundColor": {
        "background-color": "backgroundColor",
        "id": "backgroundColor"
       }
      },
      "id": "a8a8f424-d03d-40a5-86d9-7422f89d6f34",
      "palette": {
       "backgroundColor": {
        "id": "backgroundColor",
        "rgb": [
         247,
         243,
         222
        ]
       },
       "headingColor": {
        "id": "headingColor",
        "rgb": [
         51,
         51,
         51
        ]
       },
       "linkColor": {
        "id": "linkColor",
        "rgb": [
         139,
         116,
         61
        ]
       },
       "mainColor": {
        "id": "mainColor",
        "rgb": [
         51,
         51,
         51
        ]
       }
      },
      "rules": {
       "a": {
        "color": "linkColor"
       },
       "h1": {
        "color": "headingColor",
        "font-family": "Oswald",
        "font-size": 7
       },
       "h2": {
        "color": "headingColor",
        "font-family": "Oswald",
        "font-size": 5
       },
       "h3": {
        "color": "headingColor",
        "font-family": "Oswald",
        "font-size": 3.75
       },
       "h4": {
        "color": "headingColor",
        "font-family": "Oswald",
        "font-size": 3
       },
       "h5": {
        "color": "headingColor",
        "font-family": "Oswald"
       },
       "h6": {
        "color": "headingColor",
        "font-family": "Oswald"
       },
       "h7": {
        "color": "headingColor",
        "font-family": "Oswald"
       },
       "li": {
        "color": "mainColor",
        "font-family": "Lato",
        "font-size": 5
       },
       "p": {
        "color": "mainColor",
        "font-family": "Lato",
        "font-size": 5
       }
      },
      "text-base": {
       "color": "mainColor",
       "font-family": "Lato",
       "font-size": 5
      }
     },
     "d23adfc4-a377-4427-9c81-3eb3589a3dbb": {
      "backgrounds": {
       "backgroundColor": {
        "background-color": "backgroundColor",
        "id": "backgroundColor"
       }
      },
      "id": "d23adfc4-a377-4427-9c81-3eb3589a3dbb",
      "palette": {
       "backgroundColor": {
        "id": "backgroundColor",
        "rgb": [
         34,
         34,
         34
        ]
       },
       "headingColor": {
        "id": "headingColor",
        "rgb": [
         256,
         256,
         256
        ]
       },
       "linkColor": {
        "id": "linkColor",
        "rgb": [
         66,
         175,
         250
        ]
       },
       "mainColor": {
        "id": "mainColor",
        "rgb": [
         256,
         256,
         256
        ]
       }
      },
      "rules": {
       "a": {
        "color": "linkColor"
       },
       "h1": {
        "color": "headingColor",
        "font-family": "Source Sans Pro",
        "font-size": 5.25
       },
       "h2": {
        "color": "headingColor",
        "font-family": "Source Sans Pro",
        "font-size": 4
       },
       "h3": {
        "color": "headingColor",
        "font-family": "Source Sans Pro",
        "font-size": 3.5
       },
       "h4": {
        "color": "headingColor",
        "font-family": "Source Sans Pro",
        "font-size": 3
       },
       "h5": {
        "color": "headingColor",
        "font-family": "Source Sans Pro"
       },
       "h6": {
        "color": "headingColor",
        "font-family": "Source Sans Pro"
       },
       "h7": {
        "color": "headingColor",
        "font-family": "Source Sans Pro"
       },
       "li": {
        "color": "mainColor",
        "font-family": "Source Sans Pro",
        "font-size": 6
       },
       "p": {
        "color": "mainColor",
        "font-family": "Source Sans Pro",
        "font-size": 6
       }
      },
      "text-base": {
       "color": "mainColor",
       "font-family": "Source Sans Pro",
       "font-size": 6
      }
     }
    }
   }
  }
 },
 "nbformat": 4,
 "nbformat_minor": 2
}
